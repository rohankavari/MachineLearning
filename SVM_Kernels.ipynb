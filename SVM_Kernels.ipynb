{
  "nbformat": 4,
  "nbformat_minor": 0,
  "metadata": {
    "colab": {
      "name": "SVM Kernels.ipynb",
      "provenance": [],
      "authorship_tag": "ABX9TyNhph8Ra6sKqYBG9ChyEWTj",
      "include_colab_link": true
    },
    "kernelspec": {
      "name": "python3",
      "display_name": "Python 3"
    },
    "language_info": {
      "name": "python"
    }
  },
  "cells": [
    {
      "cell_type": "markdown",
      "metadata": {
        "id": "view-in-github",
        "colab_type": "text"
      },
      "source": [
        "<a href=\"https://colab.research.google.com/github/rohankavari/MachineLearning/blob/main/SVM_Kernels.ipynb\" target=\"_parent\"><img src=\"https://colab.research.google.com/assets/colab-badge.svg\" alt=\"Open In Colab\"/></a>"
      ]
    },
    {
      "cell_type": "code",
      "metadata": {
        "id": "-AeseUFRlV1K"
      },
      "source": [
        "import pandas as pd\n",
        "from sklearn.svm import LinearSVC,SVC\n",
        "from sklearn.pipeline import make_pipeline\n",
        "from sklearn.preprocessing import StandardScaler\n",
        "from sklearn.datasets import make_classification\n",
        "import numpy as np\n",
        "import matplotlib.pyplot as plt\n",
        "import seaborn as sns\n",
        "from sklearn.metrics import confusion_matrix , roc_curve , auc\n",
        "from sklearn import metrics\n",
        "from sklearn.model_selection import GridSearchCV"
      ],
      "execution_count": 29,
      "outputs": []
    },
    {
      "cell_type": "code",
      "metadata": {
        "colab": {
          "base_uri": "https://localhost:8080/",
          "height": 204
        },
        "id": "B6yPxnoslW2I",
        "outputId": "82925d90-d628-464d-dbac-581766492ffb"
      },
      "source": [
        "x = np.linspace(-5.0, 5.0, 100)\n",
        "y = np.sqrt(10**2 - x**2)\n",
        "y=np.hstack([y,-y])\n",
        "x=np.hstack([x,-x])\n",
        "x1 = np.linspace(-5.0, 5.0, 100)\n",
        "y1 = np.sqrt(5**2 - x1**2)\n",
        "y1=np.hstack([y1,-y1])\n",
        "x1=np.hstack([x1,-x1])\n",
        "df1 =pd.DataFrame(np.vstack([y,x]).T,columns=['X1','X2'])\n",
        "df1['Y']=0\n",
        "df2 =pd.DataFrame(np.vstack([y1,x1]).T,columns=['X1','X2'])\n",
        "df2['Y']=1\n",
        "df = df1.append(df2)\n",
        "df.head(5)"
      ],
      "execution_count": 4,
      "outputs": [
        {
          "output_type": "execute_result",
          "data": {
            "text/html": [
              "<div>\n",
              "<style scoped>\n",
              "    .dataframe tbody tr th:only-of-type {\n",
              "        vertical-align: middle;\n",
              "    }\n",
              "\n",
              "    .dataframe tbody tr th {\n",
              "        vertical-align: top;\n",
              "    }\n",
              "\n",
              "    .dataframe thead th {\n",
              "        text-align: right;\n",
              "    }\n",
              "</style>\n",
              "<table border=\"1\" class=\"dataframe\">\n",
              "  <thead>\n",
              "    <tr style=\"text-align: right;\">\n",
              "      <th></th>\n",
              "      <th>X1</th>\n",
              "      <th>X2</th>\n",
              "      <th>Y</th>\n",
              "    </tr>\n",
              "  </thead>\n",
              "  <tbody>\n",
              "    <tr>\n",
              "      <th>0</th>\n",
              "      <td>8.660254</td>\n",
              "      <td>-5.00000</td>\n",
              "      <td>0</td>\n",
              "    </tr>\n",
              "    <tr>\n",
              "      <th>1</th>\n",
              "      <td>8.717792</td>\n",
              "      <td>-4.89899</td>\n",
              "      <td>0</td>\n",
              "    </tr>\n",
              "    <tr>\n",
              "      <th>2</th>\n",
              "      <td>8.773790</td>\n",
              "      <td>-4.79798</td>\n",
              "      <td>0</td>\n",
              "    </tr>\n",
              "    <tr>\n",
              "      <th>3</th>\n",
              "      <td>8.828277</td>\n",
              "      <td>-4.69697</td>\n",
              "      <td>0</td>\n",
              "    </tr>\n",
              "    <tr>\n",
              "      <th>4</th>\n",
              "      <td>8.881281</td>\n",
              "      <td>-4.59596</td>\n",
              "      <td>0</td>\n",
              "    </tr>\n",
              "  </tbody>\n",
              "</table>\n",
              "</div>"
            ],
            "text/plain": [
              "         X1       X2  Y\n",
              "0  8.660254 -5.00000  0\n",
              "1  8.717792 -4.89899  0\n",
              "2  8.773790 -4.79798  0\n",
              "3  8.828277 -4.69697  0\n",
              "4  8.881281 -4.59596  0"
            ]
          },
          "metadata": {
            "tags": []
          },
          "execution_count": 4
        }
      ]
    },
    {
      "cell_type": "code",
      "metadata": {
        "colab": {
          "base_uri": "https://localhost:8080/"
        },
        "id": "Qz7h9Pt2mc5G",
        "outputId": "62875f7e-e4c5-4651-b727-54af755987f6"
      },
      "source": [
        "df.shape"
      ],
      "execution_count": 8,
      "outputs": [
        {
          "output_type": "execute_result",
          "data": {
            "text/plain": [
              "(400, 3)"
            ]
          },
          "metadata": {
            "tags": []
          },
          "execution_count": 8
        }
      ]
    },
    {
      "cell_type": "code",
      "metadata": {
        "colab": {
          "base_uri": "https://localhost:8080/"
        },
        "id": "jxkCpdXGXavC",
        "outputId": "54901e30-6bf3-46d5-964f-75ce562b5ec2"
      },
      "source": [
        "df.info()"
      ],
      "execution_count": 32,
      "outputs": [
        {
          "output_type": "stream",
          "text": [
            "<class 'pandas.core.frame.DataFrame'>\n",
            "Int64Index: 400 entries, 0 to 199\n",
            "Data columns (total 3 columns):\n",
            " #   Column  Non-Null Count  Dtype  \n",
            "---  ------  --------------  -----  \n",
            " 0   X1      400 non-null    float64\n",
            " 1   X2      400 non-null    float64\n",
            " 2   Y       400 non-null    int64  \n",
            "dtypes: float64(2), int64(1)\n",
            "memory usage: 12.5 KB\n"
          ],
          "name": "stdout"
        }
      ]
    },
    {
      "cell_type": "code",
      "metadata": {
        "colab": {
          "base_uri": "https://localhost:8080/"
        },
        "id": "KCCzVm3qlv0_",
        "outputId": "317c2d6d-6413-4247-8a7a-36bf7f9be69a"
      },
      "source": [
        "classes=df['Y'].value_counts()\n",
        "print(\"class distribution \\n\",\"0:\",classes[0]/(classes[0]+classes[1]) *100,\"%\",\"\\n 1:\",classes[1]/(classes[0]+classes[1]) *100,\"%\" )"
      ],
      "execution_count": 5,
      "outputs": [
        {
          "output_type": "stream",
          "text": [
            "class distribution \n",
            " 0: 50.0 % \n",
            " 1: 50.0 %\n"
          ],
          "name": "stdout"
        }
      ]
    },
    {
      "cell_type": "code",
      "metadata": {
        "colab": {
          "base_uri": "https://localhost:8080/",
          "height": 391
        },
        "id": "4WAlZ4YKmHBW",
        "outputId": "d70b5463-7862-471e-e535-6366ed58b5ad"
      },
      "source": [
        "sns.pairplot(data=df, hue=\"Y\")\n"
      ],
      "execution_count": 7,
      "outputs": [
        {
          "output_type": "execute_result",
          "data": {
            "text/plain": [
              "<seaborn.axisgrid.PairGrid at 0x7fa80e938e10>"
            ]
          },
          "metadata": {
            "tags": []
          },
          "execution_count": 7
        },
        {
          "output_type": "display_data",
          "data": {
            "image/png": "[encoded data removed]",
            "text/plain": [
              "<Figure size 402.375x360 with 6 Axes>"
            ]
          },
          "metadata": {
            "tags": [],
            "needs_background": "light"
          }
        }
      ]
    },
    {
      "cell_type": "code",
      "metadata": {
        "id": "qkdc4zGvmVDu"
      },
      "source": [
        "y=df.iloc[:,2:3].values.ravel()\n",
        "x=df.iloc[:,0:2]\n",
        "from sklearn.model_selection import train_test_split\n",
        "x_train, x_test, y_train, y_test = train_test_split(x, y, test_size=0.2, random_state=42,stratify=y)"
      ],
      "execution_count": 13,
      "outputs": []
    },
    {
      "cell_type": "code",
      "metadata": {
        "id": "sDmbpk2_92f5"
      },
      "source": [
        "scaler = StandardScaler()\n",
        "scaler.fit(x_train)\n",
        "x_sca_train=scaler.transform(x_train)\n",
        "x_sca_test=scaler.transform(x_test)"
      ],
      "execution_count": 19,
      "outputs": []
    },
    {
      "cell_type": "code",
      "metadata": {
        "id": "k17nObheahDX"
      },
      "source": [
        "def plot_roc_curve(fpr, tpr, label=None):\n",
        " plt.plot(fpr, tpr, linewidth=2, label=label)\n",
        " plt.plot([0, 1], [0, 1], 'k--') # dashed diagonal\n",
        " plt.legend()"
      ],
      "execution_count": 25,
      "outputs": []
    },
    {
      "cell_type": "markdown",
      "metadata": {
        "id": "EEIrGAQinC9R"
      },
      "source": [
        "# Model 1"
      ]
    },
    {
      "cell_type": "code",
      "metadata": {
        "id": "TsjjU4lAvU3I"
      },
      "source": [
        "model1=LinearSVC(random_state=0,penalty='l1', loss='squared_hinge', dual=False)    \n",
        "model1.fit(x_sca_train,y_train)\n",
        "y_pred=model1.predict(x_sca_train)"
      ],
      "execution_count": 20,
      "outputs": []
    },
    {
      "cell_type": "code",
      "metadata": {
        "colab": {
          "base_uri": "https://localhost:8080/",
          "height": 584
        },
        "id": "zVY309A6d31_",
        "outputId": "3b5cf721-f3d2-4942-da6b-26e61984566d"
      },
      "source": [
        "plt.figure(figsize=(10, 10))\n",
        "a=sns.heatmap(confusion_matrix(y_train, y_pred),annot=True,fmt=\"d\")\n",
        "a.set(xlabel=\"Predicted\", ylabel=\"Actual\", aspect=\"equal\");"
      ],
      "execution_count": 21,
      "outputs": [
        {
          "output_type": "display_data",
          "data": {
            "image/png": "[encoded data removed]",
            "text/plain": [
              "<Figure size 720x720 with 2 Axes>"
            ]
          },
          "metadata": {
            "tags": [],
            "needs_background": "light"
          }
        }
      ]
    },
    {
      "cell_type": "code",
      "metadata": {
        "colab": {
          "base_uri": "https://localhost:8080/"
        },
        "id": "fDuirj0y_7cx",
        "outputId": "bf2f8620-7a4b-4fae-9368-c532536ced11"
      },
      "source": [
        "print(metrics.classification_report(y_train, y_pred))"
      ],
      "execution_count": 22,
      "outputs": [
        {
          "output_type": "stream",
          "text": [
            "              precision    recall  f1-score   support\n",
            "\n",
            "           0       0.51      0.50      0.50       160\n",
            "           1       0.51      0.52      0.51       160\n",
            "\n",
            "    accuracy                           0.51       320\n",
            "   macro avg       0.51      0.51      0.51       320\n",
            "weighted avg       0.51      0.51      0.51       320\n",
            "\n"
          ],
          "name": "stdout"
        }
      ]
    },
    {
      "cell_type": "code",
      "metadata": {
        "colab": {
          "base_uri": "https://localhost:8080/"
        },
        "id": "GIl1TpL4ATkE",
        "outputId": "9555d4f8-7e27-44e8-d1d6-d4a3bdfed33c"
      },
      "source": [
        "from sklearn.model_selection import cross_val_score\n",
        "print(\"Cross Val Score:\",cross_val_score(model1, x_sca_train, y_train, cv=3,scoring='f1'))\n",
        "print(\"Cross Val Mean:\",np.round(np.mean(cross_val_score(model1, x_sca_train, y_train, cv=3,scoring='f1')),10))\n",
        "print(\"Cross Val Std:\",np.round(np.std(cross_val_score(model1, x_sca_train, y_train, cv=3,scoring='f1')),10))"
      ],
      "execution_count": 23,
      "outputs": [
        {
          "output_type": "stream",
          "text": [
            "Cross Val Score: [0.40776699 0.46728972 0.4587156 ]\n",
            "Cross Val Mean: 0.4445907687\n",
            "Cross Val Std: 0.0262725699\n"
          ],
          "name": "stdout"
        }
      ]
    },
    {
      "cell_type": "code",
      "metadata": {
        "colab": {
          "base_uri": "https://localhost:8080/",
          "height": 483
        },
        "id": "DpX_GcH4FQ3r",
        "outputId": "733dd00f-6103-41d3-d462-4f51ce322bac"
      },
      "source": [
        "scores=model1.decision_function(x_sca_train)\n",
        "fpr, tpr, thresholds = roc_curve(y_train, scores)\n",
        "area=str(np.round(auc(fpr,tpr),5))\n",
        "plt.figure(figsize = (10,8))\n",
        "plot_roc_curve(fpr,tpr,\"Model 1\"+\" auc=\"+area)"
      ],
      "execution_count": 26,
      "outputs": [
        {
          "output_type": "display_data",
          "data": {
            "image/png": "[encoded data removed]",
            "text/plain": [
              "<Figure size 720x576 with 1 Axes>"
            ]
          },
          "metadata": {
            "tags": [],
            "needs_background": "light"
          }
        }
      ]
    },
    {
      "cell_type": "code",
      "metadata": {
        "colab": {
          "base_uri": "https://localhost:8080/",
          "height": 282
        },
        "id": "pVNuBhF-yuQ9",
        "outputId": "ea37e698-e833-4fcf-e830-76d3611dd465"
      },
      "source": [
        "precisions, recalls, thresholds = metrics.precision_recall_curve(y_train, scores)\n",
        "plt.plot(thresholds, precisions[:-1], \"b--\", label=\"Precision\")\n",
        "plt.plot(thresholds, recalls[:-1], \"g-\", label=\"Recall\")"
      ],
      "execution_count": 27,
      "outputs": [
        {
          "output_type": "execute_result",
          "data": {
            "text/plain": [
              "[<matplotlib.lines.Line2D at 0x7fa802aac990>]"
            ]
          },
          "metadata": {
            "tags": []
          },
          "execution_count": 27
        },
        {
          "output_type": "display_data",
          "data": {
            "image/png": "[encoded data removed]",
            "text/plain": [
              "<Figure size 432x288 with 1 Axes>"
            ]
          },
          "metadata": {
            "tags": [],
            "needs_background": "light"
          }
        }
      ]
    },
    {
      "cell_type": "code",
      "metadata": {
        "colab": {
          "base_uri": "https://localhost:8080/"
        },
        "id": "9O9DZBLhXghS",
        "outputId": "5f1d7215-77d7-48f1-d27b-1c06105c330c"
      },
      "source": [
        "y_train"
      ],
      "execution_count": 33,
      "outputs": [
        {
          "output_type": "execute_result",
          "data": {
            "text/plain": [
              "array([1, 1, 0, 0, 0, 1, 1, 0, 0, 0, 1, 1, 0, 0, 1, 0, 0, 0, 0, 0, 0, 1,\n",
              "       1, 1, 1, 0, 0, 1, 1, 0, 0, 0, 1, 1, 1, 1, 1, 0, 1, 0, 1, 1, 1, 0,\n",
              "       0, 1, 1, 1, 0, 1, 0, 0, 0, 1, 0, 0, 0, 0, 0, 1, 0, 1, 1, 0, 1, 1,\n",
              "       1, 1, 0, 1, 0, 1, 0, 1, 0, 0, 0, 0, 0, 1, 0, 1, 1, 1, 1, 1, 1, 0,\n",
              "       1, 0, 1, 1, 1, 0, 0, 1, 0, 1, 0, 1, 0, 0, 0, 1, 0, 1, 1, 0, 1, 0,\n",
              "       1, 1, 1, 1, 1, 0, 0, 1, 0, 0, 1, 0, 0, 0, 1, 0, 1, 0, 1, 0, 0, 1,\n",
              "       1, 0, 1, 1, 0, 1, 0, 0, 0, 1, 1, 1, 1, 0, 1, 0, 0, 0, 1, 0, 1, 1,\n",
              "       0, 0, 0, 1, 1, 1, 1, 1, 0, 0, 0, 1, 0, 0, 1, 1, 1, 1, 0, 1, 1, 0,\n",
              "       1, 0, 1, 0, 0, 1, 1, 1, 0, 1, 0, 1, 0, 0, 1, 1, 0, 0, 1, 1, 1, 1,\n",
              "       0, 1, 0, 1, 1, 0, 0, 0, 1, 1, 0, 0, 0, 1, 1, 1, 1, 0, 0, 0, 0, 1,\n",
              "       0, 0, 0, 0, 1, 0, 0, 0, 0, 0, 1, 1, 0, 0, 0, 0, 1, 1, 1, 1, 0, 1,\n",
              "       1, 1, 0, 0, 0, 1, 0, 0, 1, 1, 0, 1, 0, 0, 0, 0, 1, 1, 1, 1, 1, 1,\n",
              "       1, 1, 0, 1, 0, 1, 1, 0, 0, 1, 1, 1, 0, 0, 1, 1, 1, 0, 1, 0, 0, 1,\n",
              "       1, 0, 1, 1, 1, 1, 0, 0, 0, 0, 0, 1, 1, 0, 0, 1, 0, 0, 1, 0, 1, 0,\n",
              "       0, 1, 0, 0, 0, 0, 0, 0, 1, 0, 1, 1])"
            ]
          },
          "metadata": {
            "tags": []
          },
          "execution_count": 33
        }
      ]
    },
    {
      "cell_type": "markdown",
      "metadata": {
        "id": "LCtWSZJ6Vdkp"
      },
      "source": [
        "# Model 2"
      ]
    },
    {
      "cell_type": "code",
      "metadata": {
        "id": "SpiblyMSVgLx"
      },
      "source": [
        "model2=SVC(cache_size=1000)"
      ],
      "execution_count": 34,
      "outputs": []
    },
    {
      "cell_type": "code",
      "metadata": {
        "colab": {
          "base_uri": "https://localhost:8080/"
        },
        "id": "JNvstwR7bJiL",
        "outputId": "9fb5293f-265a-49cf-fdbb-0c96a3c17f1b"
      },
      "source": [
        "param_grid = {'C': [0.1, 1, 10, 100, 1000],\n",
        "              'kernel': ['linear', 'poly', 'rbf', 'sigmoid'],\n",
        "              \"gamma\":[\"scale\",'auto'],\n",
        "              \"degree\":[2,3,4]\n",
        "              } \n",
        "grid = GridSearchCV(model2, param_grid, refit = True, verbose = 7,scoring=\"f1\", cv=10, n_jobs=-1)\n",
        "grid.fit(x_sca_train, y_train)"
      ],
      "execution_count": 35,
      "outputs": [
        {
          "output_type": "stream",
          "text": [
            "Fitting 10 folds for each of 120 candidates, totalling 1200 fits\n"
          ],
          "name": "stdout"
        },
        {
          "output_type": "stream",
          "text": [
            "[Parallel(n_jobs=-1)]: Using backend LokyBackend with 2 concurrent workers.\n",
            "[Parallel(n_jobs=-1)]: Done   4 tasks      | elapsed:    0.0s\n",
            "[Parallel(n_jobs=-1)]: Done 380 tasks      | elapsed:    1.6s\n",
            "[Parallel(n_jobs=-1)]: Done 1180 tasks      | elapsed:   12.8s\n",
            "[Parallel(n_jobs=-1)]: Done 1200 out of 1200 | elapsed:   12.9s finished\n"
          ],
          "name": "stderr"
        },
        {
          "output_type": "execute_result",
          "data": {
            "text/plain": [
              "GridSearchCV(cv=10, error_score=nan,\n",
              "             estimator=SVC(C=1.0, break_ties=False, cache_size=1000,\n",
              "                           class_weight=None, coef0=0.0,\n",
              "                           decision_function_shape='ovr', degree=3,\n",
              "                           gamma='scale', kernel='rbf', max_iter=-1,\n",
              "                           probability=False, random_state=None, shrinking=True,\n",
              "                           tol=0.001, verbose=False),\n",
              "             iid='deprecated', n_jobs=-1,\n",
              "             param_grid={'C': [0.1, 1, 10, 100, 1000], 'degree': [2, 3, 4],\n",
              "                         'gamma': ['scale', 'auto'],\n",
              "                         'kernel': ['linear', 'poly', 'rbf', 'sigmoid']},\n",
              "             pre_dispatch='2*n_jobs', refit=True, return_train_score=False,\n",
              "             scoring='f1', verbose=7)"
            ]
          },
          "metadata": {
            "tags": []
          },
          "execution_count": 35
        }
      ]
    },
    {
      "cell_type": "code",
      "metadata": {
        "colab": {
          "base_uri": "https://localhost:8080/"
        },
        "id": "zh2OyoKncOyi",
        "outputId": "5adee6e4-d612-4329-8c09-781fc57c17f8"
      },
      "source": [
        "print(f'Best score: {grid.best_score_} with param: {grid.best_params_}')"
      ],
      "execution_count": 36,
      "outputs": [
        {
          "output_type": "stream",
          "text": [
            "Best score: 1.0 with param: {'C': 0.1, 'degree': 2, 'gamma': 'scale', 'kernel': 'poly'}\n"
          ],
          "name": "stdout"
        }
      ]
    },
    {
      "cell_type": "code",
      "metadata": {
        "id": "c2vNPBoMX_cS"
      },
      "source": [
        "model2=SVC(C=0.1, degree=2, gamma= 'scale', kernel='poly')\n",
        "model2.fit(x_sca_train, y_train)\n",
        "y_pred=model2.predict(x_sca_train)"
      ],
      "execution_count": 39,
      "outputs": []
    },
    {
      "cell_type": "code",
      "metadata": {
        "colab": {
          "base_uri": "https://localhost:8080/",
          "height": 584
        },
        "id": "KXrcQ47BYauk",
        "outputId": "fbc4af76-e145-4f8a-b8af-d91226993404"
      },
      "source": [
        "plt.figure(figsize=(10, 10))\n",
        "a=sns.heatmap(confusion_matrix(y_train, y_pred),annot=True,fmt=\"d\")\n",
        "a.set(xlabel=\"Predicted\", ylabel=\"Actual\", aspect=\"equal\");"
      ],
      "execution_count": 40,
      "outputs": [
        {
          "output_type": "display_data",
          "data": {
            "image/png": "[encoded data removed]",
            "text/plain": [
              "<Figure size 720x720 with 2 Axes>"
            ]
          },
          "metadata": {
            "tags": [],
            "needs_background": "light"
          }
        }
      ]
    },
    {
      "cell_type": "code",
      "metadata": {
        "colab": {
          "base_uri": "https://localhost:8080/"
        },
        "id": "YvAPTaJDYaum",
        "outputId": "ab77c4e3-4a06-4120-f4bf-2f7c0a0b4cee"
      },
      "source": [
        "print(metrics.classification_report(y_train, y_pred))"
      ],
      "execution_count": 41,
      "outputs": [
        {
          "output_type": "stream",
          "text": [
            "              precision    recall  f1-score   support\n",
            "\n",
            "           0       1.00      1.00      1.00       160\n",
            "           1       1.00      1.00      1.00       160\n",
            "\n",
            "    accuracy                           1.00       320\n",
            "   macro avg       1.00      1.00      1.00       320\n",
            "weighted avg       1.00      1.00      1.00       320\n",
            "\n"
          ],
          "name": "stdout"
        }
      ]
    },
    {
      "cell_type": "code",
      "metadata": {
        "colab": {
          "base_uri": "https://localhost:8080/"
        },
        "id": "bZQFIvQWYaun",
        "outputId": "ca3d9e1b-0a29-4e47-98f8-5ebda5b55b62"
      },
      "source": [
        "from sklearn.model_selection import cross_val_score\n",
        "print(\"Cross Val Score:\",cross_val_score(model2, x_sca_train, y_train, cv=3,scoring='f1'))\n",
        "print(\"Cross Val Mean:\",np.round(np.mean(cross_val_score(model2, x_sca_train, y_train, cv=3,scoring='f1')),10))\n",
        "print(\"Cross Val Std:\",np.round(np.std(cross_val_score(model2, x_sca_train, y_train, cv=3,scoring='f1')),10))"
      ],
      "execution_count": 44,
      "outputs": [
        {
          "output_type": "stream",
          "text": [
            "Cross Val Score: [1. 1. 1.]\n",
            "Cross Val Mean: 1.0\n",
            "Cross Val Std: 0.0\n"
          ],
          "name": "stdout"
        }
      ]
    },
    {
      "cell_type": "code",
      "metadata": {
        "colab": {
          "base_uri": "https://localhost:8080/",
          "height": 483
        },
        "id": "MSXUT5uNYaun",
        "outputId": "e9f92521-a1b0-438d-d5de-3f63b03da1df"
      },
      "source": [
        "scores=model2.decision_function(x_sca_train)\n",
        "fpr, tpr, thresholds = roc_curve(y_train, scores)\n",
        "area=str(np.round(auc(fpr,tpr),5))\n",
        "plt.figure(figsize = (10,8))\n",
        "plot_roc_curve(fpr,tpr,\"Model 2\"+\" auc=\"+area)"
      ],
      "execution_count": 53,
      "outputs": [
        {
          "output_type": "display_data",
          "data": {
            "image/png": "[encoded data removed]",
            "text/plain": [
              "<Figure size 720x576 with 1 Axes>"
            ]
          },
          "metadata": {
            "tags": [],
            "needs_background": "light"
          }
        }
      ]
    },
    {
      "cell_type": "code",
      "metadata": {
        "colab": {
          "base_uri": "https://localhost:8080/",
          "height": 282
        },
        "id": "3gzz751RYauo",
        "outputId": "cc064924-bdb5-4900-b2a6-ff87098f61d8"
      },
      "source": [
        "precisions, recalls, thresholds = metrics.precision_recall_curve(y_train, scores)\n",
        "plt.plot(thresholds, precisions[:-1], \"b--\", label=\"Precision\")\n",
        "plt.plot(thresholds, recalls[:-1], \"g-\", label=\"Recall\")"
      ],
      "execution_count": 47,
      "outputs": [
        {
          "output_type": "execute_result",
          "data": {
            "text/plain": [
              "[<matplotlib.lines.Line2D at 0x7fa7fd7e4c90>]"
            ]
          },
          "metadata": {
            "tags": []
          },
          "execution_count": 47
        },
        {
          "output_type": "display_data",
          "data": {
            "image/png": "[encoded data removed]",
            "text/plain": [
              "<Figure size 432x288 with 1 Axes>"
            ]
          },
          "metadata": {
            "tags": [],
            "needs_background": "light"
          }
        }
      ]
    },
    {
      "cell_type": "markdown",
      "metadata": {
        "id": "NjrJs1pnY5TE"
      },
      "source": [
        "Model Eval"
      ]
    },
    {
      "cell_type": "code",
      "metadata": {
        "id": "9cHM80PZNR2W"
      },
      "source": [
        "pred_mod1=model1.predict(x_sca_test)\n",
        "pred_mod2=model2.predict(x_sca_test)\n"
      ],
      "execution_count": 48,
      "outputs": []
    },
    {
      "cell_type": "code",
      "metadata": {
        "colab": {
          "base_uri": "https://localhost:8080/",
          "height": 574
        },
        "id": "7LwqzswHNaKW",
        "outputId": "25d0d37b-8ecc-48e7-a011-4c05262d42f0"
      },
      "source": [
        "plt.figure(figsize=(10, 10))\n",
        "a=sns.heatmap(confusion_matrix(y_test, pred_mod1),annot=True,fmt=\"d\")\n",
        "a.set(xlabel=\"Predicted\", ylabel=\"Actual\", aspect=\"equal\");"
      ],
      "execution_count": 49,
      "outputs": [
        {
          "output_type": "display_data",
          "data": {
            "image/png": "[encoded data removed]",
            "text/plain": [
              "<Figure size 720x720 with 2 Axes>"
            ]
          },
          "metadata": {
            "tags": [],
            "needs_background": "light"
          }
        }
      ]
    },
    {
      "cell_type": "code",
      "metadata": {
        "colab": {
          "base_uri": "https://localhost:8080/"
        },
        "id": "E6wRG1ozYeqm",
        "outputId": "b62d41f2-fa54-420f-b7cd-40b0ff7643e6"
      },
      "source": [
        "print(metrics.classification_report(y_test, pred_mod1))"
      ],
      "execution_count": 50,
      "outputs": [
        {
          "output_type": "stream",
          "text": [
            "              precision    recall  f1-score   support\n",
            "\n",
            "           0       0.46      0.53      0.49        40\n",
            "           1       0.44      0.38      0.41        40\n",
            "\n",
            "    accuracy                           0.45        80\n",
            "   macro avg       0.45      0.45      0.45        80\n",
            "weighted avg       0.45      0.45      0.45        80\n",
            "\n"
          ],
          "name": "stdout"
        }
      ]
    },
    {
      "cell_type": "code",
      "metadata": {
        "colab": {
          "base_uri": "https://localhost:8080/",
          "height": 584
        },
        "id": "PejY3COxZHA1",
        "outputId": "3b9f9221-925b-46c7-ed8f-a31feef65602"
      },
      "source": [
        "plt.figure(figsize=(10, 10))\n",
        "a=sns.heatmap(confusion_matrix(y_test, pred_mod2),annot=True,fmt=\"d\")\n",
        "a.set(xlabel=\"Predicted\", ylabel=\"Actual\", aspect=\"equal\");"
      ],
      "execution_count": 52,
      "outputs": [
        {
          "output_type": "display_data",
          "data": {
            "image/png": "[encoded data removed]",
            "text/plain": [
              "<Figure size 720x720 with 2 Axes>"
            ]
          },
          "metadata": {
            "tags": [],
            "needs_background": "light"
          }
        }
      ]
    },
    {
      "cell_type": "code",
      "metadata": {
        "colab": {
          "base_uri": "https://localhost:8080/"
        },
        "id": "0tk8w9hEZHA2",
        "outputId": "74172fb7-0103-483b-8c12-476bb5a8e3b8"
      },
      "source": [
        "print(metrics.classification_report(y_test, pred_mod2))"
      ],
      "execution_count": 51,
      "outputs": [
        {
          "output_type": "stream",
          "text": [
            "              precision    recall  f1-score   support\n",
            "\n",
            "           0       1.00      1.00      1.00        40\n",
            "           1       1.00      1.00      1.00        40\n",
            "\n",
            "    accuracy                           1.00        80\n",
            "   macro avg       1.00      1.00      1.00        80\n",
            "weighted avg       1.00      1.00      1.00        80\n",
            "\n"
          ],
          "name": "stdout"
        }
      ]
    },
    {
      "cell_type": "markdown",
      "metadata": {
        "id": "QmQjj05dZMQB"
      },
      "source": [
        "Model 2 is the best"
      ]
    }
  ]
}