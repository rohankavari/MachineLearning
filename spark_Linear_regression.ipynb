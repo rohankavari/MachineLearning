{
  "nbformat": 4,
  "nbformat_minor": 0,
  "metadata": {
    "colab": {
      "name": "spark_Linear regression.ipynb",
      "provenance": [],
      "collapsed_sections": [],
      "mount_file_id": "1FhH3HIUk5znfKiDSrkYc1lbbpqqTaQYz",
      "authorship_tag": "ABX9TyP2OgnldC3ehxkjPnvy57iZ",
      "include_colab_link": true
    },
    "kernelspec": {
      "name": "python3",
      "display_name": "Python 3"
    },
    "language_info": {
      "name": "python"
    }
  },
  "cells": [
    {
      "cell_type": "markdown",
      "metadata": {
        "id": "view-in-github",
        "colab_type": "text"
      },
      "source": [
        "<a href=\"https://colab.research.google.com/github/rohankavari/MachineLearning/blob/main/spark_Linear_regression.ipynb\" target=\"_parent\"><img src=\"https://colab.research.google.com/assets/colab-badge.svg\" alt=\"Open In Colab\"/></a>"
      ]
    },
    {
      "cell_type": "code",
      "metadata": {
        "colab": {
          "base_uri": "https://localhost:8080/"
        },
        "id": "I_6bA87U05UT",
        "outputId": "5526ec92-766e-43aa-d381-175798da4a78"
      },
      "source": [
        "!sudo apt update\n",
        "!apt-get install openjdk-8-jdk-headless -qq > /dev/null\n",
        "!wget -q https://downloads.apache.org/spark/spark-3.1.1/spark-3.1.1-bin-hadoop2.7.tgz\n",
        "!tar xf spark-3.1.1-bin-hadoop2.7.tgz\n",
        "!pip install -q findspark\n",
        "!ls /usr/lib/jvm/\n",
        "import os\n",
        "os.environ['JAVA_HOME']='/usr/lib/jvm/java-8-openjdk-amd64'\n",
        "os.environ['SPARK_HOME']='/content/spark-3.1.1-bin-hadoop2.7'\n",
        "!pip install pyspark"
      ],
      "execution_count": 7,
      "outputs": [
        {
          "output_type": "stream",
          "text": [
            "\u001b[33m\r0% [Working]\u001b[0m\r            \rHit:1 http://archive.ubuntu.com/ubuntu bionic InRelease\n",
            "\u001b[33m\r0% [Waiting for headers] [Connected to cloud.r-project.org (13.227.220.26)] [Wa\u001b[0m\r                                                                               \rHit:2 http://ppa.launchpad.net/c2d4u.team/c2d4u4.0+/ubuntu bionic InRelease\n",
            "\u001b[33m\r0% [Waiting for headers] [Waiting for headers] [Connected to cloud.r-project.or\u001b[0m\r                                                                               \rHit:3 http://security.ubuntu.com/ubuntu bionic-security InRelease\n",
            "\u001b[33m\r0% [Waiting for headers] [Connected to cloud.r-project.org (13.227.220.26)] [Co\u001b[0m\r                                                                               \rHit:4 http://archive.ubuntu.com/ubuntu bionic-updates InRelease\n",
            "\u001b[33m\r0% [Connected to cloud.r-project.org (13.227.220.26)] [Connecting to ppa.launch\u001b[0m\u001b[33m\r0% [1 InRelease gpgv 242 kB] [Waiting for headers] [Connected to cloud.r-projec\u001b[0m\r                                                                               \rHit:5 http://archive.ubuntu.com/ubuntu bionic-backports InRelease\n",
            "\u001b[33m\r0% [1 InRelease gpgv 242 kB] [Connected to cloud.r-project.org (13.227.220.26)]\u001b[0m\r                                                                               \rHit:6 http://ppa.launchpad.net/cran/libgit2/ubuntu bionic InRelease\n",
            "\u001b[33m\r0% [1 InRelease gpgv 242 kB] [Waiting for headers] [Connected to developer.down\u001b[0m\r                                                                               \rHit:7 https://cloud.r-project.org/bin/linux/ubuntu bionic-cran40/ InRelease\n",
            "\u001b[33m\r0% [1 InRelease gpgv 242 kB] [Connecting to ppa.launchpad.net (91.189.95.85)] [\u001b[0m\r                                                                               \rHit:8 http://ppa.launchpad.net/deadsnakes/ppa/ubuntu bionic InRelease\n",
            "Hit:9 http://ppa.launchpad.net/graphics-drivers/ppa/ubuntu bionic InRelease\n",
            "Ign:10 https://developer.download.nvidia.com/compute/cuda/repos/ubuntu1804/x86_64  InRelease\n",
            "Ign:11 https://developer.download.nvidia.com/compute/machine-learning/repos/ubuntu1804/x86_64  InRelease\n",
            "Hit:12 https://developer.download.nvidia.com/compute/cuda/repos/ubuntu1804/x86_64  Release\n",
            "Hit:13 https://developer.download.nvidia.com/compute/machine-learning/repos/ubuntu1804/x86_64  Release\n",
            "Reading package lists... Done\n",
            "Building dependency tree       \n",
            "Reading state information... Done\n",
            "83 packages can be upgraded. Run 'apt list --upgradable' to see them.\n",
            "default-java\t\t   java-11-openjdk-amd64     java-8-openjdk-amd64\n",
            "java-1.11.0-openjdk-amd64  java-1.8.0-openjdk-amd64\n",
            "Collecting pyspark\n",
            "\u001b[?25l  Downloading https://files.pythonhosted.org/packages/45/b0/9d6860891ab14a39d4bddf80ba26ce51c2f9dc4805e5c6978ac0472c120a/pyspark-3.1.1.tar.gz (212.3MB)\n",
            "\u001b[K     |████████████████████████████████| 212.3MB 70kB/s \n",
            "\u001b[?25hCollecting py4j==0.10.9\n",
            "\u001b[?25l  Downloading https://files.pythonhosted.org/packages/9e/b6/6a4fb90cd235dc8e265a6a2067f2a2c99f0d91787f06aca4bcf7c23f3f80/py4j-0.10.9-py2.py3-none-any.whl (198kB)\n",
            "\u001b[K     |████████████████████████████████| 204kB 44.9MB/s \n",
            "\u001b[?25hBuilding wheels for collected packages: pyspark\n",
            "  Building wheel for pyspark (setup.py) ... \u001b[?25l\u001b[?25hdone\n",
            "  Created wheel for pyspark: filename=pyspark-3.1.1-py2.py3-none-any.whl size=212767604 sha256=56f746a2e8c018276375759e7657b9fe93c1e13abb93feb797b16390ad1858c5\n",
            "  Stored in directory: /root/.cache/pip/wheels/0b/90/c0/01de724414ef122bd05f056541fb6a0ecf47c7ca655f8b3c0f\n",
            "Successfully built pyspark\n",
            "Installing collected packages: py4j, pyspark\n",
            "Successfully installed py4j-0.10.9 pyspark-3.1.1\n"
          ],
          "name": "stdout"
        }
      ]
    },
    {
      "cell_type": "code",
      "metadata": {
        "id": "2wUhCZhxIidF"
      },
      "source": [
        "import findspark\n",
        "import pandas as pd\n",
        "from pyspark.sql import SparkSession\n",
        "import matplotlib.pyplot as plt\n",
        "import numpy as np"
      ],
      "execution_count": 8,
      "outputs": []
    },
    {
      "cell_type": "code",
      "metadata": {
        "id": "w1bpTY5y4fUd"
      },
      "source": [
        "findspark.init()\n",
        "spark=SparkSession.builder.master('local[*]').getOrCreate()"
      ],
      "execution_count": 9,
      "outputs": []
    },
    {
      "cell_type": "code",
      "metadata": {
        "id": "zquLL9IU9X8u"
      },
      "source": [
        "url=\"/content/drive/MyDrive/dataset/Real estate valuation data set.xlsx\"\n",
        "df=pd.read_excel(\"/content/drive/MyDrive/dataset/Real estate valuation data set.xlsx\")\n",
        "df.drop([0],inplace=True)\n",
        "df.drop([113],inplace=True)\n",
        "df.drop(labels=['X1'],inplace=True,axis=1)\n",
        "data=spark.createDataFrame(df) "
      ],
      "execution_count": 10,
      "outputs": []
    },
    {
      "cell_type": "code",
      "metadata": {
        "colab": {
          "base_uri": "https://localhost:8080/"
        },
        "id": "H6I6_BC6ArRe",
        "outputId": "68a8a27b-d131-4943-c235-64a7222b58fb"
      },
      "source": [
        "data.printSchema()"
      ],
      "execution_count": 11,
      "outputs": [
        {
          "output_type": "stream",
          "text": [
            "root\n",
            " |-- X2: double (nullable = true)\n",
            " |-- X3: double (nullable = true)\n",
            " |-- X4: long (nullable = true)\n",
            " |-- X5: double (nullable = true)\n",
            " |-- X6: double (nullable = true)\n",
            " |-- Y: double (nullable = true)\n",
            "\n"
          ],
          "name": "stdout"
        }
      ]
    },
    {
      "cell_type": "code",
      "metadata": {
        "colab": {
          "base_uri": "https://localhost:8080/"
        },
        "id": "Ep71AfFlA0_G",
        "outputId": "a3d220f8-51e0-42d9-82d6-27f8db227efa"
      },
      "source": [
        "data.show()"
      ],
      "execution_count": 12,
      "outputs": [
        {
          "output_type": "stream",
          "text": [
            "+----+--------+---+--------+---------+----+\n",
            "|  X2|      X3| X4|      X5|       X6|   Y|\n",
            "+----+--------+---+--------+---------+----+\n",
            "|19.5|306.5947|  9|24.98034|121.53951|42.2|\n",
            "|13.3|561.9845|  5|24.98746|121.54391|47.3|\n",
            "|13.3|561.9845|  5|24.98746|121.54391|54.8|\n",
            "| 5.0|390.5684|  5|24.97937|121.54245|43.1|\n",
            "| 7.1| 2175.03|  3|24.96305|121.51254|32.1|\n",
            "|34.5|623.4731|  7|24.97933|121.53642|40.3|\n",
            "|20.3|287.6025|  6|24.98042|121.54228|46.7|\n",
            "|31.7|5512.038|  1|24.95095|121.48458|18.8|\n",
            "|17.9| 1783.18|  3|24.96731|121.51486|22.1|\n",
            "|34.8|405.2134|  1|24.97349|121.53372|41.4|\n",
            "| 6.3|90.45606|  9|24.97433| 121.5431|58.1|\n",
            "|13.0|492.2313|  5|24.96515|121.53737|39.3|\n",
            "|20.4|2469.645|  4|24.96108|121.51046|23.8|\n",
            "|13.2|1164.838|  4|24.99156|121.53406|34.3|\n",
            "|35.7|579.2083|  2| 24.9824|121.54619|50.5|\n",
            "| 0.0|292.9978|  6|24.97744|121.54458|70.1|\n",
            "|17.7|350.8515|  1|24.97544|121.53119|37.4|\n",
            "|16.9|368.1363|  8| 24.9675|121.54451|42.3|\n",
            "| 1.5|23.38284|  7|24.96772|121.54102|47.7|\n",
            "| 4.5|2275.877|  3|24.96314|121.51151|29.3|\n",
            "+----+--------+---+--------+---------+----+\n",
            "only showing top 20 rows\n",
            "\n"
          ],
          "name": "stdout"
        }
      ]
    },
    {
      "cell_type": "markdown",
      "metadata": {
        "id": "KWafqm6uKH4q"
      },
      "source": [
        "functions\n"
      ]
    },
    {
      "cell_type": "code",
      "metadata": {
        "id": "XBoSJeb8KNk4"
      },
      "source": [
        "plain_result=pd.DataFrame(columns=['model','R2','MSE','MAE','RMSE'])"
      ],
      "execution_count": 140,
      "outputs": []
    },
    {
      "cell_type": "code",
      "metadata": {
        "id": "qb4XOzW9KJw5"
      },
      "source": [
        "from pyspark.ml.evaluation import RegressionEvaluator\n",
        "def calc_res(pred,table,cols,target):\n",
        "  evaluation=RegressionEvaluator(labelCol=target,predictionCol='prediction')\n",
        "\n",
        "  model=target+\"~\"+\"+\".join(feature_cols)\n",
        "  r2=evaluation.evaluate(pred.predictions,{evaluation.metricName:\"r2\"})\n",
        "  mse=evaluation.evaluate(pred.predictions,{evaluation.metricName:\"mse\"})\n",
        "  mae=evaluation.evaluate(pred.predictions,{evaluation.metricName:\"mae\"})\n",
        "  rmse=evaluation.evaluate(pred.predictions,{evaluation.metricName:\"rmse\"})\n",
        "\n",
        "  data={'model':model,'R2':r2,'MSE':mse,'MAE':mae,'RMSE':rmse}\n",
        "  table = table.append(data, ignore_index = True)\n",
        "  return table"
      ],
      "execution_count": 141,
      "outputs": []
    },
    {
      "cell_type": "code",
      "metadata": {
        "id": "bfmBjFoFXgYS"
      },
      "source": [
        "def plt_resi(pred,target='Y'):\n",
        "  y=pred.predictions.select(target).toPandas()\n",
        "  y_pred=pred.predictions.select('prediction').toPandas()\n",
        "  e=y[target]-y_pred['prediction']\n",
        "  plt.scatter(y_pred, e ,c=\"green\")\n",
        "  plt.plot([y_pred.min(), y_pred.max()], [0, 0], linewidth=2)"
      ],
      "execution_count": 159,
      "outputs": []
    },
    {
      "cell_type": "markdown",
      "metadata": {
        "id": "-4ETsDPZKFTD"
      },
      "source": [
        "Model 1"
      ]
    },
    {
      "cell_type": "code",
      "metadata": {
        "colab": {
          "base_uri": "https://localhost:8080/"
        },
        "id": "8Mnr3yMxA5z1",
        "outputId": "ce202548-96d0-4552-ce82-03b6bb8a52ac"
      },
      "source": [
        "feature_cols=data.columns[:-1]\n",
        "from pyspark.ml.feature import VectorAssembler\n",
        "vect_assembler=VectorAssembler(inputCols=feature_cols,outputCol='features')\n",
        "final_data=vect_assembler.transform(data).select('features','Y')\n",
        "final_data.show()"
      ],
      "execution_count": 143,
      "outputs": [
        {
          "output_type": "stream",
          "text": [
            "+--------------------+----+\n",
            "|            features|   Y|\n",
            "+--------------------+----+\n",
            "|[19.5,306.5947,9....|42.2|\n",
            "|[13.3,561.9845,5....|47.3|\n",
            "|[13.3,561.9845,5....|54.8|\n",
            "|[5.0,390.5684,5.0...|43.1|\n",
            "|[7.1,2175.03,3.0,...|32.1|\n",
            "|[34.5,623.4731,7....|40.3|\n",
            "|[20.3,287.6025,6....|46.7|\n",
            "|[31.7,5512.038,1....|18.8|\n",
            "|[17.9,1783.18,3.0...|22.1|\n",
            "|[34.8,405.2134,1....|41.4|\n",
            "|[6.3,90.45606,9.0...|58.1|\n",
            "|[13.0,492.2313,5....|39.3|\n",
            "|[20.4,2469.645,4....|23.8|\n",
            "|[13.2,1164.838,4....|34.3|\n",
            "|[35.7,579.2083,2....|50.5|\n",
            "|[0.0,292.9978,6.0...|70.1|\n",
            "|[17.7,350.8515,1....|37.4|\n",
            "|[16.9,368.1363,8....|42.3|\n",
            "|[1.5,23.38284,7.0...|47.7|\n",
            "|[4.5,2275.877,3.0...|29.3|\n",
            "+--------------------+----+\n",
            "only showing top 20 rows\n",
            "\n"
          ],
          "name": "stdout"
        }
      ]
    },
    {
      "cell_type": "code",
      "metadata": {
        "id": "Ph4M6RTcQyfL"
      },
      "source": [
        "from pyspark.ml.regression import LinearRegression\n",
        "linreg=LinearRegression(featuresCol='features',labelCol='Y')\n",
        "model=linreg.fit(final_data)\n",
        "pred=model.evaluate(final_data)"
      ],
      "execution_count": 144,
      "outputs": []
    },
    {
      "cell_type": "code",
      "metadata": {
        "colab": {
          "base_uri": "https://localhost:8080/"
        },
        "id": "9jK6zhRWXrgq",
        "outputId": "d7130f84-e700-49e0-91d8-c4e5a4dd70d1"
      },
      "source": [
        "pred.predictions.show()"
      ],
      "execution_count": 145,
      "outputs": [
        {
          "output_type": "stream",
          "text": [
            "+--------------------+----+------------------+\n",
            "|            features|   Y|        prediction|\n",
            "+--------------------+----+------------------+\n",
            "|[19.5,306.5947,9....|42.2| 49.67606299151521|\n",
            "|[13.3,561.9845,5....|47.3| 46.57235486740501|\n",
            "|[13.3,561.9845,5....|54.8| 46.57235486740501|\n",
            "|[5.0,390.5684,5.0...|43.1| 47.52657800428824|\n",
            "|[7.1,2175.03,3.0,...|32.1|33.351202249730704|\n",
            "|[34.5,623.4731,7....|40.3| 41.59969026329236|\n",
            "|[20.3,287.6025,6....|46.7| 45.53837536269657|\n",
            "|[31.7,5512.038,1....|18.8| 8.461156761405618|\n",
            "|[17.9,1783.18,3.0...|22.1|33.029495628180484|\n",
            "|[34.8,405.2134,1....|41.4|32.852619917683114|\n",
            "|[6.3,90.45606,9.0...|58.1| 52.62305338004626|\n",
            "|[13.0,492.2313,5....|39.3| 41.78334180756974|\n",
            "|[20.4,2469.645,4....|23.8|29.667794783019417|\n",
            "|[13.2,1164.838,4....|34.3| 43.72073092755818|\n",
            "|[35.7,579.2083,2....|50.5| 35.53385370603428|\n",
            "|[0.0,292.9978,6.0...|70.1|50.148867382384196|\n",
            "|[17.7,350.8515,1....|37.4| 37.88654024589596|\n",
            "|[16.9,368.1363,8....|42.3|45.957963399923756|\n",
            "|[1.5,23.38284,7.0...|47.7|49.886940341730224|\n",
            "|[4.5,2275.877,3.0...|29.3| 33.64703045254282|\n",
            "+--------------------+----+------------------+\n",
            "only showing top 20 rows\n",
            "\n"
          ],
          "name": "stdout"
        }
      ]
    },
    {
      "cell_type": "code",
      "metadata": {
        "colab": {
          "base_uri": "https://localhost:8080/",
          "height": 76
        },
        "id": "tTXzkp9FRkey",
        "outputId": "4f3999d8-4aa1-49db-95d1-814180d3008d"
      },
      "source": [
        "plain_result=calc_res(pred,plain_result,feature_cols,\"Y\")\n",
        "plain_result"
      ],
      "execution_count": 146,
      "outputs": [
        {
          "output_type": "execute_result",
          "data": {
            "text/html": [
              "<div>\n",
              "<style scoped>\n",
              "    .dataframe tbody tr th:only-of-type {\n",
              "        vertical-align: middle;\n",
              "    }\n",
              "\n",
              "    .dataframe tbody tr th {\n",
              "        vertical-align: top;\n",
              "    }\n",
              "\n",
              "    .dataframe thead th {\n",
              "        text-align: right;\n",
              "    }\n",
              "</style>\n",
              "<table border=\"1\" class=\"dataframe\">\n",
              "  <thead>\n",
              "    <tr style=\"text-align: right;\">\n",
              "      <th></th>\n",
              "      <th>model</th>\n",
              "      <th>R2</th>\n",
              "      <th>MSE</th>\n",
              "      <th>MAE</th>\n",
              "      <th>RMSE</th>\n",
              "    </tr>\n",
              "  </thead>\n",
              "  <tbody>\n",
              "    <tr>\n",
              "      <th>0</th>\n",
              "      <td>Y~X2+X3+X4+X5+X6</td>\n",
              "      <td>0.630971</td>\n",
              "      <td>62.141516</td>\n",
              "      <td>5.934685</td>\n",
              "      <td>7.882989</td>\n",
              "    </tr>\n",
              "  </tbody>\n",
              "</table>\n",
              "</div>"
            ],
            "text/plain": [
              "              model        R2        MSE       MAE      RMSE\n",
              "0  Y~X2+X3+X4+X5+X6  0.630971  62.141516  5.934685  7.882989"
            ]
          },
          "metadata": {
            "tags": []
          },
          "execution_count": 146
        }
      ]
    },
    {
      "cell_type": "markdown",
      "metadata": {
        "id": "9vffCNxZXduy"
      },
      "source": [
        "Reseduals"
      ]
    },
    {
      "cell_type": "code",
      "metadata": {
        "colab": {
          "base_uri": "https://localhost:8080/",
          "height": 265
        },
        "id": "Q7nNioo4eGjC",
        "outputId": "3a9899d8-d8b7-4eb1-f97a-6ba5401694e6"
      },
      "source": [
        "plt_resi(pred)"
      ],
      "execution_count": 147,
      "outputs": [
        {
          "output_type": "display_data",
          "data": {
            "image/png": "[encoded data removed]",
            "text/plain": [
              "<Figure size 432x288 with 1 Axes>"
            ]
          },
          "metadata": {
            "tags": [],
            "needs_background": "light"
          }
        }
      ]
    },
    {
      "cell_type": "markdown",
      "metadata": {
        "id": "gMJEtbMMXXjO"
      },
      "source": [
        "Model2"
      ]
    },
    {
      "cell_type": "code",
      "metadata": {
        "id": "snAmA8sYO3PS"
      },
      "source": [
        "from pyspark.sql.functions import log\n",
        "from pyspark.sql import functions \n",
        "a=data.withColumn(\"logX2\",log(col(\"X2\")))\n",
        "a=a.na.drop()"
      ],
      "execution_count": 148,
      "outputs": []
    },
    {
      "cell_type": "code",
      "metadata": {
        "colab": {
          "base_uri": "https://localhost:8080/",
          "height": 287
        },
        "id": "XqigBf17vY8L",
        "outputId": "2daff3fb-a3c7-4fc0-dfa2-843a50dfa195"
      },
      "source": [
        "from pyspark.ml.stat import Correlation\n",
        "import seaborn as sns\n",
        "cor=Correlation.corr(final_data,\"features\").collect()[0][0].toArray()\n",
        "sns.heatmap(cor,annot=True)"
      ],
      "execution_count": 149,
      "outputs": [
        {
          "output_type": "execute_result",
          "data": {
            "text/plain": [
              "<matplotlib.axes._subplots.AxesSubplot at 0x7fdc6105e350>"
            ]
          },
          "metadata": {
            "tags": []
          },
          "execution_count": 149
        },
        {
          "output_type": "display_data",
          "data": {
            "image/png": "[encoded data removed]",
            "text/plain": [
              "<Figure size 432x288 with 2 Axes>"
            ]
          },
          "metadata": {
            "tags": [],
            "needs_background": "light"
          }
        }
      ]
    },
    {
      "cell_type": "code",
      "metadata": {
        "colab": {
          "base_uri": "https://localhost:8080/"
        },
        "id": "JFxqZmy7tteL",
        "outputId": "5f5b3b62-9494-4035-8250-798a2f39ef15"
      },
      "source": [
        "feature_cols=['X2', 'X3', 'X4', 'X5', 'X6', 'logX2']\n",
        "from pyspark.ml.feature import VectorAssembler\n",
        "vect_assembler=VectorAssembler(inputCols=feature_cols,outputCol='features')\n",
        "final_data=vect_assembler.transform(a).select(\"features\",'Y')\n",
        "final_data.show()"
      ],
      "execution_count": 150,
      "outputs": [
        {
          "output_type": "stream",
          "text": [
            "+--------------------+----+\n",
            "|            features|   Y|\n",
            "+--------------------+----+\n",
            "|[19.5,306.5947,9....|42.2|\n",
            "|[13.3,561.9845,5....|47.3|\n",
            "|[13.3,561.9845,5....|54.8|\n",
            "|[5.0,390.5684,5.0...|43.1|\n",
            "|[7.1,2175.03,3.0,...|32.1|\n",
            "|[34.5,623.4731,7....|40.3|\n",
            "|[20.3,287.6025,6....|46.7|\n",
            "|[31.7,5512.038,1....|18.8|\n",
            "|[17.9,1783.18,3.0...|22.1|\n",
            "|[34.8,405.2134,1....|41.4|\n",
            "|[6.3,90.45606,9.0...|58.1|\n",
            "|[13.0,492.2313,5....|39.3|\n",
            "|[20.4,2469.645,4....|23.8|\n",
            "|[13.2,1164.838,4....|34.3|\n",
            "|[35.7,579.2083,2....|50.5|\n",
            "|[17.7,350.8515,1....|37.4|\n",
            "|[16.9,368.1363,8....|42.3|\n",
            "|[1.5,23.38284,7.0...|47.7|\n",
            "|[4.5,2275.877,3.0...|29.3|\n",
            "|[10.5,279.1726,7....|51.6|\n",
            "+--------------------+----+\n",
            "only showing top 20 rows\n",
            "\n"
          ],
          "name": "stdout"
        }
      ]
    },
    {
      "cell_type": "code",
      "metadata": {
        "colab": {
          "base_uri": "https://localhost:8080/",
          "height": 106
        },
        "id": "ji4jtAkfz8ia",
        "outputId": "3055e9ce-4315-4edd-ebc7-27218dc00d2e"
      },
      "source": [
        "from pyspark.ml.regression import LinearRegression\n",
        "linreg=LinearRegression(featuresCol='features',labelCol='Y')\n",
        "model=linreg.fit(final_data)\n",
        "pred=model.evaluate(final_data)\n",
        "plain_result=calc_res(pred,plain_result,feature_cols,\"Y\")\n",
        "plain_result"
      ],
      "execution_count": 151,
      "outputs": [
        {
          "output_type": "execute_result",
          "data": {
            "text/html": [
              "<div>\n",
              "<style scoped>\n",
              "    .dataframe tbody tr th:only-of-type {\n",
              "        vertical-align: middle;\n",
              "    }\n",
              "\n",
              "    .dataframe tbody tr th {\n",
              "        vertical-align: top;\n",
              "    }\n",
              "\n",
              "    .dataframe thead th {\n",
              "        text-align: right;\n",
              "    }\n",
              "</style>\n",
              "<table border=\"1\" class=\"dataframe\">\n",
              "  <thead>\n",
              "    <tr style=\"text-align: right;\">\n",
              "      <th></th>\n",
              "      <th>model</th>\n",
              "      <th>R2</th>\n",
              "      <th>MSE</th>\n",
              "      <th>MAE</th>\n",
              "      <th>RMSE</th>\n",
              "    </tr>\n",
              "  </thead>\n",
              "  <tbody>\n",
              "    <tr>\n",
              "      <th>0</th>\n",
              "      <td>Y~X2+X3+X4+X5+X6</td>\n",
              "      <td>0.630971</td>\n",
              "      <td>62.141516</td>\n",
              "      <td>5.934685</td>\n",
              "      <td>7.882989</td>\n",
              "    </tr>\n",
              "    <tr>\n",
              "      <th>1</th>\n",
              "      <td>Y~X2+X3+X4+X5+X6+logX2</td>\n",
              "      <td>0.647876</td>\n",
              "      <td>55.821528</td>\n",
              "      <td>5.634257</td>\n",
              "      <td>7.471381</td>\n",
              "    </tr>\n",
              "  </tbody>\n",
              "</table>\n",
              "</div>"
            ],
            "text/plain": [
              "                    model        R2        MSE       MAE      RMSE\n",
              "0        Y~X2+X3+X4+X5+X6  0.630971  62.141516  5.934685  7.882989\n",
              "1  Y~X2+X3+X4+X5+X6+logX2  0.647876  55.821528  5.634257  7.471381"
            ]
          },
          "metadata": {
            "tags": []
          },
          "execution_count": 151
        }
      ]
    },
    {
      "cell_type": "code",
      "metadata": {
        "colab": {
          "base_uri": "https://localhost:8080/",
          "height": 265
        },
        "id": "S4dIEoao3IRv",
        "outputId": "6bdb6922-e1e2-4bb5-f92d-d55600e4178a"
      },
      "source": [
        "plt_resi(pred)"
      ],
      "execution_count": 152,
      "outputs": [
        {
          "output_type": "display_data",
          "data": {
            "image/png": "[encoded data removed]",
            "text/plain": [
              "<Figure size 432x288 with 1 Axes>"
            ]
          },
          "metadata": {
            "tags": [],
            "needs_background": "light"
          }
        }
      ]
    },
    {
      "cell_type": "markdown",
      "metadata": {
        "id": "l6RiIQzW3TJD"
      },
      "source": [
        "Model 3"
      ]
    },
    {
      "cell_type": "code",
      "metadata": {
        "id": "izd3Dl7E3b4z"
      },
      "source": [
        "a=data.withColumn(\"logY\",log(col(\"Y\")))\n",
        "a=a.withColumn(\"logX2\",log(col(\"X2\")))\n",
        "a=a.na.drop()"
      ],
      "execution_count": 153,
      "outputs": []
    },
    {
      "cell_type": "code",
      "metadata": {
        "colab": {
          "base_uri": "https://localhost:8080/",
          "height": 287
        },
        "id": "ypJOcPiI3lB-",
        "outputId": "eaf80513-5863-4597-84f0-ea5f298df88d"
      },
      "source": [
        "cor=Correlation.corr(final_data,\"features\").collect()[0][0].toArray()\n",
        "sns.heatmap(cor,annot=True)"
      ],
      "execution_count": 154,
      "outputs": [
        {
          "output_type": "execute_result",
          "data": {
            "text/plain": [
              "<matplotlib.axes._subplots.AxesSubplot at 0x7fdc60f2e2d0>"
            ]
          },
          "metadata": {
            "tags": []
          },
          "execution_count": 154
        },
        {
          "output_type": "display_data",
          "data": {
            "image/png": "[encoded data removed]",
            "text/plain": [
              "<Figure size 432x288 with 2 Axes>"
            ]
          },
          "metadata": {
            "tags": [],
            "needs_background": "light"
          }
        }
      ]
    },
    {
      "cell_type": "code",
      "metadata": {
        "colab": {
          "base_uri": "https://localhost:8080/"
        },
        "id": "aC0karvc3pJD",
        "outputId": "34105c1e-e342-4fcf-b3bd-c21c85e263d5"
      },
      "source": [
        "feature_cols=['X4', 'X5', 'X6', 'logX2']\n",
        "from pyspark.ml.feature import VectorAssembler\n",
        "vect_assembler=VectorAssembler(inputCols=feature_cols,outputCol='features')\n",
        "final_data=vect_assembler.transform(a).select(\"features\",'logY')\n",
        "final_data.show()"
      ],
      "execution_count": 155,
      "outputs": [
        {
          "output_type": "stream",
          "text": [
            "+--------------------+------------------+\n",
            "|            features|              logY|\n",
            "+--------------------+------------------+\n",
            "|[9.0,24.98034,121...| 3.742420221041966|\n",
            "|[5.0,24.98746,121...| 3.856510295497887|\n",
            "|[5.0,24.98746,121...|  4.00369019395397|\n",
            "|[5.0,24.97937,121...| 3.763522997109702|\n",
            "|[3.0,24.96305,121...|3.4688560301359703|\n",
            "|[7.0,24.97933,121...| 3.696351468952637|\n",
            "|[6.0,24.98042,121...|3.8437441646748516|\n",
            "|[1.0,24.95095,121...|2.9338568698359033|\n",
            "|[3.0,24.96731,121...|3.0955776085237074|\n",
            "|[1.0,24.97349,121...|3.7232808808312687|\n",
            "|[9.0,24.97433,121...| 4.062165663857866|\n",
            "|[5.0,24.96515,121...|3.6712245188752153|\n",
            "|[4.0,24.96108,121...| 3.169685580677429|\n",
            "|[4.0,24.99156,121...| 3.535145354171894|\n",
            "|[2.0,24.9824,121....|3.9219733362813143|\n",
            "|[1.0,24.97544,121...|3.6216707044204863|\n",
            "|[8.0,24.9675,121....| 3.744787086052232|\n",
            "|[7.0,24.96772,121...|3.8649313978942956|\n",
            "|[3.0,24.96314,121...|3.3775875160230218|\n",
            "|[7.0,24.97528,121...|3.9435216724875173|\n",
            "+--------------------+------------------+\n",
            "only showing top 20 rows\n",
            "\n"
          ],
          "name": "stdout"
        }
      ]
    },
    {
      "cell_type": "code",
      "metadata": {
        "colab": {
          "base_uri": "https://localhost:8080/",
          "height": 135
        },
        "id": "OxHMyTnX4PTL",
        "outputId": "60b35edb-7766-423d-9fac-2bc3add6be22"
      },
      "source": [
        "from pyspark.ml.regression import LinearRegression\n",
        "linreg=LinearRegression(featuresCol='features',labelCol='logY')\n",
        "model=linreg.fit(final_data)\n",
        "pred=model.evaluate(final_data)\n",
        "plain_result=calc_res(pred,plain_result,feature_cols,\"logY\")\n",
        "plain_result"
      ],
      "execution_count": 156,
      "outputs": [
        {
          "output_type": "execute_result",
          "data": {
            "text/html": [
              "<div>\n",
              "<style scoped>\n",
              "    .dataframe tbody tr th:only-of-type {\n",
              "        vertical-align: middle;\n",
              "    }\n",
              "\n",
              "    .dataframe tbody tr th {\n",
              "        vertical-align: top;\n",
              "    }\n",
              "\n",
              "    .dataframe thead th {\n",
              "        text-align: right;\n",
              "    }\n",
              "</style>\n",
              "<table border=\"1\" class=\"dataframe\">\n",
              "  <thead>\n",
              "    <tr style=\"text-align: right;\">\n",
              "      <th></th>\n",
              "      <th>model</th>\n",
              "      <th>R2</th>\n",
              "      <th>MSE</th>\n",
              "      <th>MAE</th>\n",
              "      <th>RMSE</th>\n",
              "    </tr>\n",
              "  </thead>\n",
              "  <tbody>\n",
              "    <tr>\n",
              "      <th>0</th>\n",
              "      <td>Y~X2+X3+X4+X5+X6</td>\n",
              "      <td>0.630971</td>\n",
              "      <td>62.141516</td>\n",
              "      <td>5.934685</td>\n",
              "      <td>7.882989</td>\n",
              "    </tr>\n",
              "    <tr>\n",
              "      <th>1</th>\n",
              "      <td>Y~X2+X3+X4+X5+X6+logX2</td>\n",
              "      <td>0.647876</td>\n",
              "      <td>55.821528</td>\n",
              "      <td>5.634257</td>\n",
              "      <td>7.471381</td>\n",
              "    </tr>\n",
              "    <tr>\n",
              "      <th>2</th>\n",
              "      <td>logY~X4+X5+X6+logX2</td>\n",
              "      <td>0.693531</td>\n",
              "      <td>0.043746</td>\n",
              "      <td>0.159779</td>\n",
              "      <td>0.209156</td>\n",
              "    </tr>\n",
              "  </tbody>\n",
              "</table>\n",
              "</div>"
            ],
            "text/plain": [
              "                    model        R2        MSE       MAE      RMSE\n",
              "0        Y~X2+X3+X4+X5+X6  0.630971  62.141516  5.934685  7.882989\n",
              "1  Y~X2+X3+X4+X5+X6+logX2  0.647876  55.821528  5.634257  7.471381\n",
              "2     logY~X4+X5+X6+logX2  0.693531   0.043746  0.159779  0.209156"
            ]
          },
          "metadata": {
            "tags": []
          },
          "execution_count": 156
        }
      ]
    },
    {
      "cell_type": "code",
      "metadata": {
        "colab": {
          "base_uri": "https://localhost:8080/",
          "height": 265
        },
        "id": "BM3-6oOd5Tw7",
        "outputId": "3392622b-392d-4fe5-854e-26974c9b8d79"
      },
      "source": [
        "plt_resi(pred,'logY')"
      ],
      "execution_count": 160,
      "outputs": [
        {
          "output_type": "display_data",
          "data": {
            "image/png": "[encoded data removed]",
            "text/plain": [
              "<Figure size 432x288 with 1 Axes>"
            ]
          },
          "metadata": {
            "tags": [],
            "needs_background": "light"
          }
        }
      ]
    }
  ]
}